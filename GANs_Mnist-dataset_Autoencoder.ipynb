{
  "nbformat": 4,
  "nbformat_minor": 0,
  "metadata": {
    "colab": {
      "name": "GANs_Assignment3.ipynb",
      "provenance": [],
      "collapsed_sections": [],
      "include_colab_link": true
    },
    "kernelspec": {
      "name": "python3",
      "display_name": "Python 3"
    },
    "language_info": {
      "name": "python"
    },
    "accelerator": "GPU"
  },
  "cells": [
    {
      "cell_type": "markdown",
      "metadata": {
        "id": "view-in-github",
        "colab_type": "text"
      },
      "source": [
        "<a href=\"https://colab.research.google.com/github/EslamElbassel/Decode-and-Encode-Mnist-dataset-images-GANs/blob/main/GANs_Mnist-dataset_Autoencoder.ipynb\" target=\"_parent\"><img src=\"https://colab.research.google.com/assets/colab-badge.svg\" alt=\"Open In Colab\"/></a>"
      ]
    },
    {
      "cell_type": "markdown",
      "metadata": {
        "id": "0NPXq-7fgZtC"
      },
      "source": [
        "##Importing packages "
      ]
    },
    {
      "cell_type": "code",
      "metadata": {
        "id": "_LdYbMhCPvEV"
      },
      "source": [
        "import keras\n",
        "import numpy as np\n",
        "import matplotlib.pyplot as plt\n",
        "from keras import layers\n",
        "from keras.models import Input, Model\n",
        "from keras.datasets import mnist"
      ],
      "execution_count": null,
      "outputs": []
    },
    {
      "cell_type": "markdown",
      "metadata": {
        "id": "yrNFopT7gjUE"
      },
      "source": [
        "##Loading data and Splitting it into train and test"
      ]
    },
    {
      "cell_type": "code",
      "metadata": {
        "colab": {
          "base_uri": "https://localhost:8080/"
        },
        "id": "s6FcY-wba9s7",
        "outputId": "9ee59f7e-3805-40bb-92d4-b2f2de29e2e0"
      },
      "source": [
        "# Loading and splitting images\n",
        "(train_X, _),(test_X, _) = mnist.load_data()\n",
        "\n",
        "print('X_train: ' + str(train_X.shape))\n",
        "print('X_test:  '  + str(test_X.shape))\n"
      ],
      "execution_count": null,
      "outputs": [
        {
          "output_type": "stream",
          "name": "stdout",
          "text": [
            "X_train: (60000, 28, 28)\n",
            "X_test:  (10000, 28, 28)\n"
          ]
        }
      ]
    },
    {
      "cell_type": "markdown",
      "metadata": {
        "id": "dusH38AHgpfy"
      },
      "source": [
        "##Creating the models"
      ]
    },
    {
      "cell_type": "code",
      "metadata": {
        "id": "ordjbo3aa94Z",
        "colab": {
          "base_uri": "https://localhost:8080/"
        },
        "outputId": "d3249ed0-1184-4c94-f2da-9a55eb637a1d"
      },
      "source": [
        "input_img = keras.Input(shape=(28, 28, 1))\n",
        "x = layers.Conv2D(16, (3, 3), activation='relu', padding='same')(input_img)\n",
        "x = layers.MaxPooling2D((2, 2), padding='same')(x)\n",
        "x = layers.Conv2D(8, (3, 3), activation='relu', padding='same')(x)\n",
        "encoded = layers.MaxPooling2D((2, 2), padding='same')(x)\n",
        "\n",
        "x = layers.Conv2D(8, (3, 3), activation='relu', padding='same')(encoded)\n",
        "x = layers.UpSampling2D((2, 2))(x)\n",
        "x = layers.Conv2D(16, (3, 3), activation='relu', padding='same')(x)\n",
        "x = layers.UpSampling2D((2, 2))(x)\n",
        "decoded = layers.Conv2D(1, (3, 3), activation='sigmoid', padding='same')(x)\n",
        "\n",
        "autoencoder = Model(input_img, decoded)\n",
        "autoencoder.compile(optimizer='adam', loss='binary_crossentropy')\n",
        "autoencoder.summary()\n",
        "\n",
        "train_X = train_X.astype('float32') / 255.\n",
        "test_X = test_X.astype('float32') / 255.\n",
        "train_X = np.reshape(train_X, (len(train_X), 28, 28, 1))\n",
        "test_X = np.reshape(test_X, (len(test_X), 28, 28, 1))\n",
        "\n",
        "for a in (autoencoder.weights):\n",
        "  print (a.shape )\n",
        "\n",
        "decoded_imgs = autoencoder.predict(test_X)\n",
        "\n",
        "# Encoder model\n",
        "encoder = Model(input_img, encoded)\n",
        "\n",
        "# Decoder model\n",
        "decoder_input= layers.Input(shape=(7, 7, 8))\n",
        "x = autoencoder.layers[-5](decoder_input)\n",
        "x = autoencoder.layers[-4](x)\n",
        "x = autoencoder.layers[-3](x)\n",
        "x = autoencoder.layers[-2](x)\n",
        "decoder_output = autoencoder.layers[-1](x)\n",
        "decoder = Model(decoder_input, decoder_output)"
      ],
      "execution_count": null,
      "outputs": [
        {
          "output_type": "stream",
          "name": "stdout",
          "text": [
            "Model: \"model_6\"\n",
            "_________________________________________________________________\n",
            " Layer (type)                Output Shape              Param #   \n",
            "=================================================================\n",
            " input_5 (InputLayer)        [(None, 28, 28, 1)]       0         \n",
            "                                                                 \n",
            " conv2d_10 (Conv2D)          (None, 28, 28, 16)        160       \n",
            "                                                                 \n",
            " max_pooling2d_4 (MaxPooling  (None, 14, 14, 16)       0         \n",
            " 2D)                                                             \n",
            "                                                                 \n",
            " conv2d_11 (Conv2D)          (None, 14, 14, 8)         1160      \n",
            "                                                                 \n",
            " max_pooling2d_5 (MaxPooling  (None, 7, 7, 8)          0         \n",
            " 2D)                                                             \n",
            "                                                                 \n",
            " conv2d_12 (Conv2D)          (None, 7, 7, 8)           584       \n",
            "                                                                 \n",
            " up_sampling2d_4 (UpSampling  (None, 14, 14, 8)        0         \n",
            " 2D)                                                             \n",
            "                                                                 \n",
            " conv2d_13 (Conv2D)          (None, 14, 14, 16)        1168      \n",
            "                                                                 \n",
            " up_sampling2d_5 (UpSampling  (None, 28, 28, 16)       0         \n",
            " 2D)                                                             \n",
            "                                                                 \n",
            " conv2d_14 (Conv2D)          (None, 28, 28, 1)         145       \n",
            "                                                                 \n",
            "=================================================================\n",
            "Total params: 3,217\n",
            "Trainable params: 3,217\n",
            "Non-trainable params: 0\n",
            "_________________________________________________________________\n",
            "(3, 3, 1, 16)\n",
            "(16,)\n",
            "(3, 3, 16, 8)\n",
            "(8,)\n",
            "(3, 3, 8, 8)\n",
            "(8,)\n",
            "(3, 3, 8, 16)\n",
            "(16,)\n",
            "(3, 3, 16, 1)\n",
            "(1,)\n"
          ]
        }
      ]
    },
    {
      "cell_type": "markdown",
      "metadata": {
        "id": "PIFhAnqygxl7"
      },
      "source": [
        "##Training the model"
      ]
    },
    {
      "cell_type": "code",
      "metadata": {
        "colab": {
          "base_uri": "https://localhost:8080/"
        },
        "id": "q5qj1PGhgzSK",
        "outputId": "25e4c305-616c-4818-df1e-176708ac168c"
      },
      "source": [
        "autoencoder.fit(train_X, train_X,\n",
        "                epochs=50, #5, #50,\n",
        "                batch_size=128,\n",
        "                shuffle=True,\n",
        "                validation_data=(test_X, test_X))"
      ],
      "execution_count": null,
      "outputs": [
        {
          "output_type": "stream",
          "name": "stdout",
          "text": [
            "Epoch 1/50\n",
            "469/469 [==============================] - 6s 12ms/step - loss: 0.0452 - val_loss: 0.0046\n",
            "Epoch 2/50\n",
            "469/469 [==============================] - 5s 11ms/step - loss: 0.0042 - val_loss: 0.0042\n",
            "Epoch 3/50\n",
            "469/469 [==============================] - 5s 11ms/step - loss: 0.0041 - val_loss: 0.0041\n",
            "Epoch 4/50\n",
            "469/469 [==============================] - 5s 12ms/step - loss: 0.0041 - val_loss: 0.0041\n",
            "Epoch 5/50\n",
            "469/469 [==============================] - 5s 11ms/step - loss: 0.0040 - val_loss: 0.0041\n",
            "Epoch 6/50\n",
            "469/469 [==============================] - 5s 11ms/step - loss: 0.0040 - val_loss: 0.0041\n",
            "Epoch 7/50\n",
            "469/469 [==============================] - 5s 11ms/step - loss: 0.0040 - val_loss: 0.0041\n",
            "Epoch 8/50\n",
            "469/469 [==============================] - 5s 11ms/step - loss: 0.0040 - val_loss: 0.0040\n",
            "Epoch 9/50\n",
            "469/469 [==============================] - 5s 11ms/step - loss: 0.0040 - val_loss: 0.0040\n",
            "Epoch 10/50\n",
            "469/469 [==============================] - 5s 11ms/step - loss: 0.0040 - val_loss: 0.0040\n",
            "Epoch 11/50\n",
            "469/469 [==============================] - 5s 11ms/step - loss: 0.0039 - val_loss: 0.0039\n",
            "Epoch 12/50\n",
            "469/469 [==============================] - 5s 10ms/step - loss: 0.0039 - val_loss: 0.0038\n",
            "Epoch 13/50\n",
            "469/469 [==============================] - 5s 10ms/step - loss: 0.0037 - val_loss: 0.0037\n",
            "Epoch 14/50\n",
            "469/469 [==============================] - 5s 10ms/step - loss: 0.0036 - val_loss: 0.0037\n",
            "Epoch 15/50\n",
            "469/469 [==============================] - 5s 10ms/step - loss: 0.0036 - val_loss: 0.0037\n",
            "Epoch 16/50\n",
            "469/469 [==============================] - 5s 11ms/step - loss: 0.0036 - val_loss: 0.0036\n",
            "Epoch 17/50\n",
            "469/469 [==============================] - 5s 10ms/step - loss: 0.0036 - val_loss: 0.0036\n",
            "Epoch 18/50\n",
            "469/469 [==============================] - 5s 11ms/step - loss: 0.0036 - val_loss: 0.0036\n",
            "Epoch 19/50\n",
            "469/469 [==============================] - 5s 10ms/step - loss: 0.0036 - val_loss: 0.0036\n",
            "Epoch 20/50\n",
            "469/469 [==============================] - 5s 10ms/step - loss: 0.0036 - val_loss: 0.0036\n",
            "Epoch 21/50\n",
            "469/469 [==============================] - 5s 10ms/step - loss: 0.0036 - val_loss: 0.0036\n",
            "Epoch 22/50\n",
            "469/469 [==============================] - 5s 11ms/step - loss: 0.0036 - val_loss: 0.0036\n",
            "Epoch 23/50\n",
            "469/469 [==============================] - 5s 11ms/step - loss: 0.0036 - val_loss: 0.0036\n",
            "Epoch 24/50\n",
            "469/469 [==============================] - 5s 11ms/step - loss: 0.0035 - val_loss: 0.0036\n",
            "Epoch 25/50\n",
            "469/469 [==============================] - 5s 10ms/step - loss: 0.0035 - val_loss: 0.0036\n",
            "Epoch 26/50\n",
            "469/469 [==============================] - 5s 11ms/step - loss: 0.0035 - val_loss: 0.0036\n",
            "Epoch 27/50\n",
            "469/469 [==============================] - 5s 11ms/step - loss: 0.0035 - val_loss: 0.0036\n",
            "Epoch 28/50\n",
            "469/469 [==============================] - 5s 11ms/step - loss: 0.0035 - val_loss: 0.0036\n",
            "Epoch 29/50\n",
            "469/469 [==============================] - 5s 11ms/step - loss: 0.0035 - val_loss: 0.0036\n",
            "Epoch 30/50\n",
            "469/469 [==============================] - 5s 11ms/step - loss: 0.0035 - val_loss: 0.0036\n",
            "Epoch 31/50\n",
            "469/469 [==============================] - 5s 11ms/step - loss: 0.0035 - val_loss: 0.0036\n",
            "Epoch 32/50\n",
            "469/469 [==============================] - 5s 10ms/step - loss: 0.0035 - val_loss: 0.0036\n",
            "Epoch 33/50\n",
            "469/469 [==============================] - 5s 11ms/step - loss: 0.0035 - val_loss: 0.0036\n",
            "Epoch 34/50\n",
            "469/469 [==============================] - 5s 11ms/step - loss: 0.0035 - val_loss: 0.0036\n",
            "Epoch 35/50\n",
            "469/469 [==============================] - 5s 11ms/step - loss: 0.0035 - val_loss: 0.0036\n",
            "Epoch 36/50\n",
            "469/469 [==============================] - 5s 11ms/step - loss: 0.0035 - val_loss: 0.0036\n",
            "Epoch 37/50\n",
            "469/469 [==============================] - 5s 11ms/step - loss: 0.0035 - val_loss: 0.0036\n",
            "Epoch 38/50\n",
            "469/469 [==============================] - 5s 11ms/step - loss: 0.0035 - val_loss: 0.0036\n",
            "Epoch 39/50\n",
            "469/469 [==============================] - 5s 11ms/step - loss: 0.0035 - val_loss: 0.0036\n",
            "Epoch 40/50\n",
            "469/469 [==============================] - 5s 11ms/step - loss: 0.0035 - val_loss: 0.0036\n",
            "Epoch 41/50\n",
            "469/469 [==============================] - 5s 11ms/step - loss: 0.0035 - val_loss: 0.0036\n",
            "Epoch 42/50\n",
            "469/469 [==============================] - 5s 11ms/step - loss: 0.0035 - val_loss: 0.0036\n",
            "Epoch 43/50\n",
            "469/469 [==============================] - 5s 11ms/step - loss: 0.0035 - val_loss: 0.0036\n",
            "Epoch 44/50\n",
            "469/469 [==============================] - 5s 11ms/step - loss: 0.0035 - val_loss: 0.0036\n",
            "Epoch 45/50\n",
            "469/469 [==============================] - 5s 11ms/step - loss: 0.0035 - val_loss: 0.0036\n",
            "Epoch 46/50\n",
            "469/469 [==============================] - 5s 11ms/step - loss: 0.0035 - val_loss: 0.0036\n",
            "Epoch 47/50\n",
            "469/469 [==============================] - 5s 11ms/step - loss: 0.0035 - val_loss: 0.0036\n",
            "Epoch 48/50\n",
            "469/469 [==============================] - 5s 11ms/step - loss: 0.0035 - val_loss: 0.0036\n",
            "Epoch 49/50\n",
            "469/469 [==============================] - 5s 11ms/step - loss: 0.0035 - val_loss: 0.0036\n",
            "Epoch 50/50\n",
            "469/469 [==============================] - 5s 11ms/step - loss: 0.0035 - val_loss: 0.0036\n"
          ]
        },
        {
          "output_type": "execute_result",
          "data": {
            "text/plain": [
              "<keras.callbacks.History at 0x7ff44a462110>"
            ]
          },
          "metadata": {},
          "execution_count": 27
        }
      ]
    },
    {
      "cell_type": "markdown",
      "metadata": {
        "id": "TG5xacVxgQmK"
      },
      "source": [
        "\n",
        "## Decode and Encode unseen images (testing the model)\n"
      ]
    },
    {
      "cell_type": "code",
      "metadata": {
        "id": "8Es7l28hs6pD"
      },
      "source": [
        "# Test encoder and decoder\n",
        "k = 5000\n",
        "test_imgs = test_X[:k,]\n",
        "encoded = encoder.predict(test_imgs)\n",
        "decoded = decoder.predict(encoded)"
      ],
      "execution_count": 32,
      "outputs": []
    },
    {
      "cell_type": "markdown",
      "metadata": {
        "id": "tjrYT6mSiXGM"
      },
      "source": [
        "### Visualize the reconstructed images against their original images "
      ]
    },
    {
      "cell_type": "code",
      "metadata": {
        "colab": {
          "base_uri": "https://localhost:8080/",
          "height": 506
        },
        "id": "n4yGG9Cbied1",
        "outputId": "195f5bf5-b9fa-44c5-ab5b-5b0e124a63e7"
      },
      "source": [
        "n = 10\n",
        "plt.figure(figsize=(20, 4))\n",
        "for i in range(1, n + 1):\n",
        "    # Display original\n",
        "    ax = plt.subplot(2, n, i)\n",
        "    plt.imshow(test_X[i].reshape(28, 28))\n",
        "    plt.gray()\n",
        "    ax.get_xaxis().set_visible(False)\n",
        "    ax.get_yaxis().set_visible(False)\n",
        "\n",
        "    # Display reconstruction\n",
        "    ax = plt.subplot(2, n, i + n)\n",
        "    plt.imshow(decoded_imgs[i].reshape(28, 28))\n",
        "    plt.gray()\n",
        "    ax.get_xaxis().set_visible(False)\n",
        "    ax.get_yaxis().set_visible(False)\n",
        "plt.show()\n",
        "\n",
        "# plot coded images\n",
        "print (\"coded images\")\n",
        "plt.figure(figsize=(20, 8))\n",
        "for i in range(1, n + 1):\n",
        "    ax = plt.subplot(1, n, i)\n",
        "    plt.imshow(encoded[i,:,:,3].reshape((7 , 7)))\n",
        "    # plt.imshow(encoded_imgs[i].reshape((14 * 14 , 16)))\n",
        "    plt.gray()\n",
        "    ax.get_xaxis().set_visible(False)\n",
        "    ax.get_yaxis().set_visible(False)\n",
        "plt.show()\n",
        "\n",
        "# plot decoded images \n",
        "print (\"decoded images\")\n",
        "plt.figure(figsize=(20, 8))\n",
        "for i in range(1, n + 1):\n",
        "    ax = plt.subplot(2, n, i + n)\n",
        "    plt.imshow(decoded[i].reshape(28, 28))\n",
        "    plt.gray()\n",
        "    ax.get_xaxis().set_visible(False)\n",
        "    ax.get_yaxis().set_visible(False)\n",
        "plt.show()"
      ],
      "execution_count": 39,
      "outputs": [
        {
          "output_type": "display_data",
          "data": {
            "image/png": "[encoded data removed]",
            "text/plain": [
              "<Figure size 1440x288 with 20 Axes>"
            ]
          },
          "metadata": {
            "needs_background": "light"
          }
        },
        {
          "output_type": "stream",
          "name": "stdout",
          "text": [
            "coded images\n"
          ]
        },
        {
          "output_type": "display_data",
          "data": {
            "image/png": "[encoded data removed]",
            "text/plain": [
              "<Figure size 1440x576 with 10 Axes>"
            ]
          },
          "metadata": {
            "needs_background": "light"
          }
        },
        {
          "output_type": "stream",
          "name": "stdout",
          "text": [
            "decoded images\n"
          ]
        },
        {
          "output_type": "display_data",
          "data": {
            "image/png": "[encoded data removed]",
            "text/plain": [
              "<Figure size 1440x576 with 10 Axes>"
            ]
          },
          "metadata": {
            "needs_background": "light"
          }
        }
      ]
    }
  ]
}
